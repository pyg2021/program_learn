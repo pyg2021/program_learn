{
 "cells": [
  {
   "cell_type": "code",
   "execution_count": 1,
   "id": "3a530d52",
   "metadata": {},
   "outputs": [],
   "source": [
    "import torch\n",
    "import torch.nn as nn\n",
    "import torch.nn.functional as F"
   ]
  },
  {
   "cell_type": "code",
   "execution_count": 2,
   "id": "e6b2596f",
   "metadata": {},
   "outputs": [],
   "source": [
    "class modelConv1(nn.Module):\n",
    "    def __init__(self, in_channels, out_channels, is_batchnorm):\n",
    "        super(modelConv1, self).__init__()\n",
    "        # Kernel size: 3, Stride: 1, Padding: 1\n",
    "        if is_batchnorm:\n",
    "            # 31, 1, 15\n",
    "            self.conv1 = nn.Sequential(nn.Conv1d(in_channels, out_channels, 3, 1, 1),\n",
    "                                       nn.BatchNorm1d(out_channels),\n",
    "                                       nn.ReLU(inplace=True),)\n",
    "\n",
    "        else:\n",
    "            \n",
    "            self.conv1 = nn.Sequential(nn.Conv1d(in_channels, out_channels, 3, 1, 1),\n",
    "                                       nn.ReLU(inplace=True),)\n",
    "            \n",
    "    def forward(self, inputs):\n",
    "        \n",
    "        outputs = self.conv1(inputs)\n",
    "\n",
    "        return outputs"
   ]
  },
  {
   "cell_type": "code",
   "execution_count": 3,
   "id": "013b2720",
   "metadata": {},
   "outputs": [],
   "source": [
    "class modelResBlock(nn.Module):\n",
    "    def __init__(self, in_channels, out_channels, is_batchnorm):\n",
    "        super(modelResBlock, self).__init__()\n",
    "        # Kernel size: 3*3, Stride: 1, Padding: 1\n",
    "        if is_batchnorm:\n",
    "            # 31, 1, 15\n",
    "            self.conv1 = nn.Sequential(nn.Conv1d(in_channels, out_channels, 3, 1, 1),\n",
    "                                       nn.BatchNorm1d(out_channels),\n",
    "                                       nn.ReLU(inplace=True),)\n",
    "            self.conv2 = nn.Sequential(nn.Conv1d(out_channels, out_channels, 3, 1, 1),\n",
    "                                       nn.BatchNorm1d(out_channels),)\n",
    "\n",
    "        else:\n",
    "            \n",
    "            # 31, 1, 15\n",
    "            self.conv1 = nn.Sequential(nn.Conv1d(in_channels, out_channels, 3, 1, 1),\n",
    "                                       nn.ReLU(inplace=True),)\n",
    "            self.conv2 = nn.Sequential(nn.Conv1d(in_channels, out_channels, 3, 1, 1),)\n",
    "        \n",
    "        self.relu = nn.ReLU(inplace=True)\n",
    "        \n",
    "    def forward(self, inputs):\n",
    "        \n",
    "        outputs = self.conv1(inputs)\n",
    "        outputs = self.conv2(outputs) + inputs\n",
    "\n",
    "        return self.relu(outputs)"
   ]
  },
  {
   "cell_type": "code",
   "execution_count": 4,
   "id": "47b2f0c8",
   "metadata": {},
   "outputs": [],
   "source": [
    "class  CLFCRN_Encoder(nn.Module):\n",
    "    def __init__(self, in_channels, out_channels, is_batchnorm):\n",
    "        super(CLFCRN_Encoder, self).__init__()\n",
    "        self.in_channels   = in_channels\n",
    "        self.is_batchnorm  = is_batchnorm\n",
    "        self.out_channels  = out_channels\n",
    "        \n",
    "        filters = [16, 16, 16, 16]\n",
    "        \n",
    "        self.conv = nn.Sequential(\n",
    "                                  modelConv1(self.in_channels, filters[0], self.is_batchnorm),\n",
    "                                  modelResBlock(filters[0], filters[1], self.is_batchnorm),\n",
    "                                  modelResBlock(filters[1], filters[2], self.is_batchnorm),\n",
    "                                  modelResBlock(filters[2], filters[3], self.is_batchnorm),\n",
    "                                  nn.Conv1d(filters[3], self.out_channels, 3, 1, 1),\n",
    "                                  nn.ReLU(inplace=True)\n",
    "        )\n",
    "        \n",
    "    def forward(self, inputs):\n",
    "            \n",
    "        return self.conv(inputs)"
   ]
  },
  {
   "cell_type": "code",
   "execution_count": 5,
   "id": "be61c816",
   "metadata": {},
   "outputs": [],
   "source": [
    "class  CLFCRN_Decoder(nn.Module):\n",
    "    def __init__(self, in_channels, out_channels, is_batchnorm):\n",
    "        super(CLFCRN_Decoder, self).__init__()\n",
    "        self.in_channels   = in_channels\n",
    "        self.is_batchnorm  = is_batchnorm\n",
    "        self.out_channels  = out_channels\n",
    "        \n",
    "        filters = [16, 16, 16, 16]\n",
    "        \n",
    "        self.deconv = nn.Sequential(modelConv1(self.in_channels, filters[0], self.is_batchnorm),\n",
    "                                    modelResBlock(filters[0], filters[1], self.is_batchnorm),\n",
    "                                    modelResBlock(filters[1], filters[2], self.is_batchnorm),\n",
    "                                    modelResBlock(filters[2], filters[3], self.is_batchnorm),\n",
    "                                    nn.Conv1d(filters[3], self.out_channels, 3, 1, 1),\n",
    "                                    nn.ReLU(inplace=True))\n",
    "        \n",
    "    def forward(self, inputs):\n",
    "             \n",
    "        return self.deconv(inputs)"
   ]
  },
  {
   "cell_type": "code",
   "execution_count": 10,
   "id": "35b10dcd",
   "metadata": {},
   "outputs": [],
   "source": [
    "class  Network_clFCRN(nn.Module):\n",
    "    def __init__(self, in_channels, out_channels, is_batchnorm):\n",
    "        super(Network_clFCRN, self).__init__()\n",
    "        self.in_channels   = in_channels\n",
    "        self.is_batchnorm  = is_batchnorm\n",
    "        self.out_channels  = out_channels\n",
    "        \n",
    "        self.encoder = CLFCRN_Encoder(in_channels, out_channels, is_batchnorm)\n",
    "\n",
    "        self.decoder = CLFCRN_Decoder(in_channels, out_channels, is_batchnorm)\n",
    "    \n",
    "    def encode(self, x):\n",
    "        return self.encoder(x)\n",
    "    \n",
    "    def decode(self, z):\n",
    "        return self.decoder(z)\n",
    "        \n",
    "    def forward(self, seismic_data, label_velocity):\n",
    "        \n",
    "        pre_velocity = self.encode(seismic_data)\n",
    "        recon_seismic_data = self.decode(pre_velocity)\n",
    "        \n",
    "        pre_seismic_data = self.decode(label_velocity)\n",
    "        recon_velocity = self.encode(pre_seismic_data)\n",
    "        \n",
    "        return pre_velocity, recon_seismic_data, pre_seismic_data, recon_velocity\n",
    "        "
   ]
  },
  {
   "cell_type": "code",
   "execution_count": 11,
   "id": "12377e76",
   "metadata": {},
   "outputs": [],
   "source": [
    "net = Network_clFCRN(1, 1, True)"
   ]
  },
  {
   "cell_type": "code",
   "execution_count": 12,
   "id": "a48de5ed",
   "metadata": {},
   "outputs": [],
   "source": [
    "s_input = torch.randn(20, 1, 93)\n",
    "v_input = torch.randn(5, 1, 93)"
   ]
  },
  {
   "cell_type": "code",
   "execution_count": 13,
   "id": "f13498f5",
   "metadata": {},
   "outputs": [
    {
     "data": {
      "text/plain": [
       "(torch.Size([20, 1, 93]),\n",
       " torch.Size([20, 1, 93]),\n",
       " torch.Size([5, 1, 93]),\n",
       " torch.Size([5, 1, 93]))"
      ]
     },
     "execution_count": 13,
     "metadata": {},
     "output_type": "execute_result"
    }
   ],
   "source": [
    "pre_velocity, recon_seismic_data, pre_seismic_data, recon_velocity = net(s_input, v_input)\n",
    "pre_velocity.shape, recon_seismic_data.shape, pre_seismic_data.shape, recon_velocity.shape"
   ]
  },
  {
   "cell_type": "code",
   "execution_count": null,
   "id": "c3edee0f",
   "metadata": {},
   "outputs": [],
   "source": []
  }
 ],
 "metadata": {
  "kernelspec": {
   "display_name": "Python 3 (ipykernel)",
   "language": "python",
   "name": "python3"
  },
  "language_info": {
   "codemirror_mode": {
    "name": "ipython",
    "version": 3
   },
   "file_extension": ".py",
   "mimetype": "text/x-python",
   "name": "python",
   "nbconvert_exporter": "python",
   "pygments_lexer": "ipython3",
   "version": "3.9.16"
  }
 },
 "nbformat": 4,
 "nbformat_minor": 5
}
