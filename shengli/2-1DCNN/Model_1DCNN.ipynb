{
 "cells": [
  {
   "cell_type": "code",
   "execution_count": 1,
   "id": "de87bf85",
   "metadata": {},
   "outputs": [],
   "source": [
    "import torch.nn as nn\n",
    "import torch\n",
    "import torch.nn as nn\n",
    "import torch.nn.functional as F"
   ]
  },
  {
   "cell_type": "code",
   "execution_count": 2,
   "id": "74332701",
   "metadata": {},
   "outputs": [],
   "source": [
    "class modelConv1(nn.Module):\n",
    "    def __init__(self, in_channels, out_channels, is_batchnorm):\n",
    "        super(modelConv1, self).__init__()\n",
    "        # Kernel size: 3*3, Stride: 1, Padding: 1\n",
    "        if is_batchnorm:\n",
    "            \n",
    "            self.conv1 = nn.Sequential(nn.Conv1d(in_channels, out_channels, 3, 1, 1),\n",
    "                                       nn.BatchNorm1d(out_channels),\n",
    "                                       nn.ReLU(inplace=True),)\n",
    "\n",
    "        else:\n",
    "            \n",
    "            self.conv1 = nn.Sequential(nn.Conv1d(in_channels, out_channels, 3, 1, 1),\n",
    "                                       nn.ReLU(inplace=True),)\n",
    "            \n",
    "    def forward(self, inputs):\n",
    "        \n",
    "        outputs = self.conv1(inputs)\n",
    "\n",
    "        return outputs"
   ]
  },
  {
   "cell_type": "code",
   "execution_count": 3,
   "id": "2ec70bfa",
   "metadata": {},
   "outputs": [],
   "source": [
    "# m = nn.Conv1d(2, 16, 3, 1, 1)\n",
    "# n = nn.BatchNorm1d(16)\n",
    "# r = nn.ReLU(inplace=True)\n",
    "# m_input = torch.randn(20, 2, 50)\n",
    "# output = m(m_input)\n",
    "# output = n(output)\n",
    "# output = r(output)\n",
    "# output.shape"
   ]
  },
  {
   "cell_type": "code",
   "execution_count": 4,
   "id": "a83d3e01",
   "metadata": {},
   "outputs": [],
   "source": [
    "class modelResBlock(nn.Module):\n",
    "    def __init__(self, in_channels, out_channels, is_batchnorm):\n",
    "        super(modelResBlock, self).__init__()\n",
    "        # Kernel size: 3*3, Stride: 1, Padding: 1\n",
    "        if is_batchnorm:\n",
    "            \n",
    "            self.conv1 = nn.Sequential(nn.Conv1d(in_channels, out_channels, 3, 1, 1),\n",
    "                                       nn.BatchNorm1d(out_channels),\n",
    "                                       nn.ReLU(inplace=True),)\n",
    "            self.conv2 = nn.Sequential(nn.Conv1d(out_channels, out_channels, 3, 1, 1),\n",
    "                                       nn.BatchNorm1d(out_channels),\n",
    "                                       nn.ReLU(inplace=True),)\n",
    "\n",
    "        else:\n",
    "            \n",
    "            \n",
    "            self.conv1 = nn.Sequential(nn.Conv1d(in_channels, out_channels, 3, 1, 1),\n",
    "                                       nn.ReLU(inplace=True),)\n",
    "            self.conv2 = nn.Sequential(nn.Conv1d(in_channels, out_channels, 3, 1, 1),\n",
    "                                       nn.ReLU(inplace=True),)\n",
    "            \n",
    "    def forward(self, inputs):\n",
    "        \n",
    "        outputs = self.conv1(inputs)\n",
    "        outputs = self.conv2(outputs) + inputs\n",
    "\n",
    "        return outputs"
   ]
  },
  {
   "cell_type": "code",
   "execution_count": 5,
   "id": "8d3c7b99",
   "metadata": {},
   "outputs": [],
   "source": [
    "class  ImpedanceModel(nn.Module):\n",
    "    def __init__(self, in_channels, out_channels, is_batchnorm):\n",
    "        super(ImpedanceModel, self).__init__()\n",
    "        self.in_channels   = in_channels\n",
    "        self.is_batchnorm  = is_batchnorm\n",
    "        self.out_channels  = out_channels\n",
    "        \n",
    "        filters = [16, 16, 16, 16, 16]\n",
    "\n",
    "        self.layer1 = modelConv1(self.in_channels, filters[0], self.is_batchnorm)\n",
    "        \n",
    "        self.group1 = nn.Sequential(modelConv1(filters[0], filters[1], self.is_batchnorm),\n",
    "                                    modelResBlock(filters[1], filters[1], self.is_batchnorm))\n",
    "        \n",
    "        self.group2 = nn.Sequential(modelConv1(filters[1], filters[2], self.is_batchnorm),\n",
    "                                    modelResBlock(filters[2], filters[2], self.is_batchnorm))\n",
    "        \n",
    "        self.group3 = nn.Sequential(modelConv1(filters[2], filters[3], self.is_batchnorm),\n",
    "                                    modelResBlock(filters[3], filters[3], self.is_batchnorm))\n",
    "        \n",
    "        self.group4 = nn.Sequential(modelConv1(filters[3], filters[4], self.is_batchnorm),\n",
    "                                    modelResBlock(filters[4], filters[4], self.is_batchnorm))\n",
    "        \n",
    "        self.final   = nn.Conv1d(filters[4], self.out_channels, 1)\n",
    "        \n",
    "    def forward(self, inputs):\n",
    "        \n",
    "        layer1 = self.layer1(inputs)\n",
    "        group1 = self.group1(layer1)\n",
    "        group2 = self.group2(group1)\n",
    "        group3 = self.group3(group2)\n",
    "        group4 = self.group4(group3)\n",
    "        \n",
    "        return self.final(group4)\n"
   ]
  },
  {
   "cell_type": "code",
   "execution_count": 24,
   "id": "a48844d0",
   "metadata": {},
   "outputs": [],
   "source": [
    "# m = nn.Conv1d(2, 16, 3, 1, 1)\n",
    "# n = nn.BatchNorm1d(16)\n",
    "# r = nn.ReLU(inplace=True)\n",
    "# m_input = torch.randn(20, 2, 50)\n",
    "# output = m(m_input)\n",
    "# output = n(output)\n",
    "# output = r(output)\n",
    "# output.shape"
   ]
  },
  {
   "cell_type": "code",
   "execution_count": 6,
   "id": "7d8a4d88",
   "metadata": {},
   "outputs": [],
   "source": [
    "in_channels = 2\n",
    "out_channels = 1\n",
    "is_batchnorm = False\n",
    "net = ImpedanceModel(in_channels, out_channels, is_batchnorm)"
   ]
  },
  {
   "cell_type": "code",
   "execution_count": 7,
   "id": "2688fcaf",
   "metadata": {},
   "outputs": [
    {
     "data": {
      "text/plain": [
       "torch.Size([20, 1, 50])"
      ]
     },
     "execution_count": 7,
     "metadata": {},
     "output_type": "execute_result"
    }
   ],
   "source": [
    "m_input = torch.randn(20, 2, 50)\n",
    "output = net(m_input)\n",
    "output.shape"
   ]
  },
  {
   "cell_type": "code",
   "execution_count": 21,
   "id": "f7647838",
   "metadata": {},
   "outputs": [
    {
     "data": {
      "text/plain": [
       "'计算网络参数量，https://www.mdaima.com/it/1261.html'"
      ]
     },
     "execution_count": 21,
     "metadata": {},
     "output_type": "execute_result"
    }
   ],
   "source": [
    "'计算网络参数量，https://www.mdaima.com/it/1261.html'"
   ]
  },
  {
   "cell_type": "code",
   "execution_count": 15,
   "id": "bff3e734",
   "metadata": {},
   "outputs": [],
   "source": [
    "def get_parameter_number(net):\n",
    "    total_num = sum(p.numel() for p in net.parameters())\n",
    "    trainable_num = sum(p.numel() for p in net.parameters() if p.requires_grad)\n",
    "    return {'Total': total_num, 'Trainable': trainable_num}"
   ]
  },
  {
   "cell_type": "code",
   "execution_count": 16,
   "id": "8b4fed49",
   "metadata": {},
   "outputs": [
    {
     "name": "stdout",
     "output_type": "stream",
     "text": [
      "{'Total': 9537, 'Trainable': 9537}\n"
     ]
    }
   ],
   "source": [
    "print(get_parameter_number(net))"
   ]
  },
  {
   "cell_type": "code",
   "execution_count": 12,
   "id": "9b0e36b8",
   "metadata": {},
   "outputs": [],
   "source": [
    "def count_param(model):\n",
    "    param_count = 0\n",
    "    for param in model.parameters():\n",
    "        param_count += param.view(-1).size()[0]\n",
    "    return param_count"
   ]
  },
  {
   "cell_type": "code",
   "execution_count": 13,
   "id": "607fc319",
   "metadata": {},
   "outputs": [
    {
     "name": "stdout",
     "output_type": "stream",
     "text": [
      "Norm Conv parameter count is 9537\n"
     ]
    }
   ],
   "source": [
    "print('Norm Conv parameter count is {}'.format(count_param(net)))"
   ]
  },
  {
   "cell_type": "code",
   "execution_count": 10,
   "id": "3859a351",
   "metadata": {},
   "outputs": [
    {
     "name": "stdout",
     "output_type": "stream",
     "text": [
      "<bound method Module.parameters of ImpedanceModel(\n",
      "  (layer1): modelConv1(\n",
      "    (conv1): Sequential(\n",
      "      (0): Conv1d(2, 16, kernel_size=(3,), stride=(1,), padding=(1,))\n",
      "      (1): ReLU(inplace=True)\n",
      "    )\n",
      "  )\n",
      "  (group1): Sequential(\n",
      "    (0): modelConv1(\n",
      "      (conv1): Sequential(\n",
      "        (0): Conv1d(16, 16, kernel_size=(3,), stride=(1,), padding=(1,))\n",
      "        (1): ReLU(inplace=True)\n",
      "      )\n",
      "    )\n",
      "    (1): modelResBlock(\n",
      "      (conv1): Sequential(\n",
      "        (0): Conv1d(16, 16, kernel_size=(3,), stride=(1,), padding=(1,))\n",
      "        (1): ReLU(inplace=True)\n",
      "      )\n",
      "      (conv2): Sequential(\n",
      "        (0): Conv1d(16, 16, kernel_size=(3,), stride=(1,), padding=(1,))\n",
      "        (1): ReLU(inplace=True)\n",
      "      )\n",
      "    )\n",
      "  )\n",
      "  (group2): Sequential(\n",
      "    (0): modelConv1(\n",
      "      (conv1): Sequential(\n",
      "        (0): Conv1d(16, 16, kernel_size=(3,), stride=(1,), padding=(1,))\n",
      "        (1): ReLU(inplace=True)\n",
      "      )\n",
      "    )\n",
      "    (1): modelResBlock(\n",
      "      (conv1): Sequential(\n",
      "        (0): Conv1d(16, 16, kernel_size=(3,), stride=(1,), padding=(1,))\n",
      "        (1): ReLU(inplace=True)\n",
      "      )\n",
      "      (conv2): Sequential(\n",
      "        (0): Conv1d(16, 16, kernel_size=(3,), stride=(1,), padding=(1,))\n",
      "        (1): ReLU(inplace=True)\n",
      "      )\n",
      "    )\n",
      "  )\n",
      "  (group3): Sequential(\n",
      "    (0): modelConv1(\n",
      "      (conv1): Sequential(\n",
      "        (0): Conv1d(16, 16, kernel_size=(3,), stride=(1,), padding=(1,))\n",
      "        (1): ReLU(inplace=True)\n",
      "      )\n",
      "    )\n",
      "    (1): modelResBlock(\n",
      "      (conv1): Sequential(\n",
      "        (0): Conv1d(16, 16, kernel_size=(3,), stride=(1,), padding=(1,))\n",
      "        (1): ReLU(inplace=True)\n",
      "      )\n",
      "      (conv2): Sequential(\n",
      "        (0): Conv1d(16, 16, kernel_size=(3,), stride=(1,), padding=(1,))\n",
      "        (1): ReLU(inplace=True)\n",
      "      )\n",
      "    )\n",
      "  )\n",
      "  (group4): Sequential(\n",
      "    (0): modelConv1(\n",
      "      (conv1): Sequential(\n",
      "        (0): Conv1d(16, 16, kernel_size=(3,), stride=(1,), padding=(1,))\n",
      "        (1): ReLU(inplace=True)\n",
      "      )\n",
      "    )\n",
      "    (1): modelResBlock(\n",
      "      (conv1): Sequential(\n",
      "        (0): Conv1d(16, 16, kernel_size=(3,), stride=(1,), padding=(1,))\n",
      "        (1): ReLU(inplace=True)\n",
      "      )\n",
      "      (conv2): Sequential(\n",
      "        (0): Conv1d(16, 16, kernel_size=(3,), stride=(1,), padding=(1,))\n",
      "        (1): ReLU(inplace=True)\n",
      "      )\n",
      "    )\n",
      "  )\n",
      "  (final): Conv1d(16, 1, kernel_size=(1,), stride=(1,))\n",
      ")>\n"
     ]
    }
   ],
   "source": [
    "print(net.parameters)"
   ]
  }
 ],
 "metadata": {
  "kernelspec": {
   "display_name": "Python 3 (ipykernel)",
   "language": "python",
   "name": "python3"
  },
  "language_info": {
   "codemirror_mode": {
    "name": "ipython",
    "version": 3
   },
   "file_extension": ".py",
   "mimetype": "text/x-python",
   "name": "python",
   "nbconvert_exporter": "python",
   "pygments_lexer": "ipython3",
   "version": "3.9.16"
  }
 },
 "nbformat": 4,
 "nbformat_minor": 5
}
