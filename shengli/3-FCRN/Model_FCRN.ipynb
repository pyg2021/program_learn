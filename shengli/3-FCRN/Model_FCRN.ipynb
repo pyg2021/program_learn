{
 "cells": [
  {
   "cell_type": "code",
   "execution_count": 29,
   "id": "c10ac134",
   "metadata": {},
   "outputs": [],
   "source": [
    "import torch.nn as nn\n",
    "import torch\n",
    "import torch.nn as nn\n",
    "import torch.nn.functional as F"
   ]
  },
  {
   "cell_type": "code",
   "execution_count": 30,
   "id": "c3147fb6",
   "metadata": {},
   "outputs": [],
   "source": [
    "class modelConv1(nn.Module):\n",
    "    def __init__(self, in_channels, out_channels, is_batchnorm):\n",
    "        super(modelConv1, self).__init__()\n",
    "        # Kernel size: 3*3, Stride: 1, Padding: 1\n",
    "        if is_batchnorm:\n",
    "            \n",
    "            self.conv1 = nn.Sequential(nn.Conv1d(in_channels, out_channels, 31, 1, 15),\n",
    "                                       nn.BatchNorm1d(out_channels),\n",
    "                                       nn.ReLU(inplace=True),)\n",
    "\n",
    "        else:\n",
    "            \n",
    "            self.conv1 = nn.Sequential(nn.Conv1d(in_channels, out_channels, 31, 1, 15),\n",
    "                                       nn.ReLU(inplace=True),)\n",
    "            \n",
    "    def forward(self, inputs):\n",
    "        \n",
    "        outputs = self.conv1(inputs)\n",
    "\n",
    "        return outputs"
   ]
  },
  {
   "cell_type": "code",
   "execution_count": 31,
   "id": "b4a972be",
   "metadata": {},
   "outputs": [],
   "source": [
    "class modelResBlock(nn.Module):\n",
    "    def __init__(self, in_channels, out_channels, is_batchnorm):\n",
    "        super(modelResBlock, self).__init__()\n",
    "        # Kernel size: 3*3, Stride: 1, Padding: 1\n",
    "        if is_batchnorm:\n",
    "            \n",
    "            self.conv1 = nn.Sequential(nn.Conv1d(in_channels, out_channels, 31, 1, 15),\n",
    "                                       nn.BatchNorm1d(out_channels),\n",
    "                                       nn.ReLU(inplace=True),)\n",
    "            self.conv2 = nn.Sequential(nn.Conv1d(out_channels, out_channels, 3, 1, 1),\n",
    "                                       nn.BatchNorm1d(out_channels),)\n",
    "\n",
    "        else:\n",
    "            \n",
    "            \n",
    "            self.conv1 = nn.Sequential(nn.Conv1d(in_channels, out_channels, 31, 1, 15),\n",
    "                                       nn.ReLU(inplace=True),)\n",
    "            self.conv2 = nn.Sequential(nn.Conv1d(in_channels, out_channels, 3, 1, 1),)\n",
    "        \n",
    "        self.relu = nn.ReLU(inplace=True)\n",
    "        \n",
    "    def forward(self, inputs):\n",
    "        \n",
    "        outputs = self.conv1(inputs)\n",
    "        outputs = self.conv2(outputs) + inputs\n",
    "\n",
    "        return self.relu(outputs)"
   ]
  },
  {
   "cell_type": "code",
   "execution_count": 32,
   "id": "38337524",
   "metadata": {},
   "outputs": [],
   "source": [
    "class  Model_FCRN(nn.Module):\n",
    "    def __init__(self, in_channels, out_channels, is_batchnorm):\n",
    "        super(Model_FCRN, self).__init__()\n",
    "        self.in_channels   = in_channels\n",
    "        self.is_batchnorm  = is_batchnorm\n",
    "        self.out_channels  = out_channels\n",
    "        \n",
    "        filters = [16, 16, 16, 16]\n",
    "\n",
    "        self.layer1 = modelConv1(self.in_channels, filters[0], self.is_batchnorm)\n",
    "        \n",
    "        self.group1 = nn.Sequential(modelResBlock(filters[0], filters[1], self.is_batchnorm),\n",
    "                                    modelResBlock(filters[1], filters[2], self.is_batchnorm),\n",
    "                                    modelResBlock(filters[2], filters[3], self.is_batchnorm))\n",
    "        \n",
    "        self.final   = nn.Sequential(nn.Conv1d(filters[3], self.out_channels, 1), \n",
    "                                     nn.ReLU(inplace=True))\n",
    "        \n",
    "    def forward(self, inputs):\n",
    "        \n",
    "        layer1 = self.layer1(inputs)\n",
    "        group1 = self.group1(layer1)\n",
    "        \n",
    "        return self.final(group1)"
   ]
  },
  {
   "cell_type": "code",
   "execution_count": 33,
   "id": "722a2fba",
   "metadata": {},
   "outputs": [],
   "source": [
    "net = Model_FCRN(2, 1, True)"
   ]
  },
  {
   "cell_type": "code",
   "execution_count": 34,
   "id": "91611410",
   "metadata": {},
   "outputs": [],
   "source": [
    "m_input = torch.randn(20, 2, 93)"
   ]
  },
  {
   "cell_type": "code",
   "execution_count": 35,
   "id": "514823dc",
   "metadata": {},
   "outputs": [
    {
     "data": {
      "text/plain": [
       "torch.Size([20, 1, 93])"
      ]
     },
     "execution_count": 35,
     "metadata": {},
     "output_type": "execute_result"
    }
   ],
   "source": [
    "output = net(m_input)\n",
    "output.shape"
   ]
  },
  {
   "cell_type": "code",
   "execution_count": null,
   "id": "d7c45626",
   "metadata": {},
   "outputs": [],
   "source": [
    "m = nn.Conv1d(16, 16, 31, 1, 15)\n",
    "n = nn.BatchNorm1d(16)\n",
    "r = nn.ReLU(inplace=True)\n",
    "m_input = torch.randn(20, 16, 93)\n",
    "output = m(m_input)\n",
    "output = n(output)\n",
    "output = r(output)\n",
    "output.shape"
   ]
  }
 ],
 "metadata": {
  "kernelspec": {
   "display_name": "Python 3 (ipykernel)",
   "language": "python",
   "name": "python3"
  },
  "language_info": {
   "codemirror_mode": {
    "name": "ipython",
    "version": 3
   },
   "file_extension": ".py",
   "mimetype": "text/x-python",
   "name": "python",
   "nbconvert_exporter": "python",
   "pygments_lexer": "ipython3",
   "version": "3.9.16"
  }
 },
 "nbformat": 4,
 "nbformat_minor": 5
}
